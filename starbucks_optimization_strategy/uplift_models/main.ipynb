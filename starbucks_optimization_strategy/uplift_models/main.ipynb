{
 "cells": [
  {
   "cell_type": "markdown",
   "metadata": {},
   "source": [
    "# Starbucks Promotion Optimization Strategy\n",
    "\n",
    "<br>\n",
    "\n",
    "<img src=\"https://opj.ca/wp-content/uploads/2018/02/New-Starbucks-Logo-1200x969.jpg\" width=\"200\" height=\"200\">\n",
    "<br>\n",
    "<br>\n",
    " \n",
    "## Background Information\n",
    "\n",
    "The data for this exercise consists of about 120,000 data points split in a 2:1 ratio among training and test files. In the experiment simulated by the data, an advertising promotion was tested to see if it would bring more customers to purchase a specific product priced at $10. Since it costs the company 0.15 to send out each promotion, it would be best to limit that promotion only to those that are most receptive to the promotion. Each data point includes one column indicating whether or not an individual was sent a promotion for the product, and one column indicating whether or not that individual eventually purchased that product. Each individual also has seven additional features associated with them, which are provided abstractly as V1-V7.\n",
    "\n",
    "Our task is to use the training data to understand what patterns in V1-V7 to indicate that a promotion should be provided to a user. Specifically, our goal is to maximize the following metrics:\n",
    "\n",
    "* **Incremental Response Rate (IRR)** \n",
    "\n",
    "IRR depicts how many more customers purchased the product with the promotion, as compared to if they didn't receive the promotion. Mathematically, it's the ratio of the number of purchasers in the promotion group to the total number of customers in the purchasers group (_treatment_) minus the ratio of the number of purchasers in the non-promotional group to the total number of customers in the non-promotional group (_control_).\n",
    "\n",
    "$$ IRR = \\frac{purch_{treat}}{cust_{treat}} - \\frac{purch_{ctrl}}{cust_{ctrl}} $$\n",
    "\n",
    "\n",
    "* **Net Incremental Revenue (NIR)**\n",
    "\n",
    "NIR depicts how much is made (or lost) by sending out the promotion. Mathematically, this is 10 times the total number of purchasers that received the promotion minus 0.15 times the number of promotions sent out, minus 10 times the number of purchasers who were not given the promotion.\n",
    "\n",
    "$$ NIR = (10\\cdot purch_{treat} - 0.15 \\cdot cust_{treat}) - 10 \\cdot purch_{ctrl}$$\n",
    "\n",
    "For a full description of what Starbucks provides to candidates see the [instructions available here](https://drive.google.com/open?id=18klca9Sef1Rs6q8DW4l7o349r8B70qXM)."
   ]
  },
  {
   "cell_type": "markdown",
   "metadata": {},
   "source": [
    "## First look"
   ]
  },
  {
   "cell_type": "code",
   "execution_count": 1,
   "metadata": {},
   "outputs": [
    {
     "name": "stderr",
     "output_type": "stream",
     "text": [
      "Using TensorFlow backend.\n"
     ]
    }
   ],
   "source": [
    "import warnings\n",
    "warnings.filterwarnings(\"ignore\")\n",
    "\n",
    "from itertools import combinations\n",
    "from collections import Counter\n",
    "\n",
    "import numpy as np\n",
    "import pandas as pd\n",
    "import scipy as sp\n",
    "import sklearn as sk\n",
    "import xgboost as xgb\n",
    "\n",
    "from scipy.stats import ks_2samp\n",
    "from imblearn.over_sampling import SMOTE\n",
    "from imblearn.pipeline import Pipeline\n",
    "from sklearn.ensemble import RandomForestClassifier\n",
    "from sklearn.model_selection import train_test_split, GridSearchCV\n",
    "from sklearn.metrics import roc_auc_score, roc_curve\n",
    "\n",
    "import matplotlib.pyplot as plt\n",
    "import seaborn as sb\n",
    "%matplotlib inline\n",
    "\n",
    "train_data = pd.read_csv('data/training.csv')\n",
    "test_data = pd.read_csv('data/test.csv')"
   ]
  },
  {
   "cell_type": "markdown",
   "metadata": {},
   "source": [
    "The numbers of customers in control and treatment groups are roughly similar. However, the data is highly imbalanced in terms of number of purchasers. "
   ]
  },
  {
   "cell_type": "code",
   "execution_count": 2,
   "metadata": {},
   "outputs": [
    {
     "name": "stdout",
     "output_type": "stream",
     "text": [
      "purchase:  Counter({0: 83494, 1: 1040})\n",
      "promotion:  Counter({'Yes': 42364, 'No': 42170})\n"
     ]
    }
   ],
   "source": [
    "print('purchase: ', Counter(train_data['purchase']))\n",
    "print('promotion: ', Counter(train_data['Promotion']))"
   ]
  },
  {
   "cell_type": "markdown",
   "metadata": {},
   "source": [
    "Except for `V2` and `V3` which are continuous, the remaining variables are discrete. Since we don't have much information about these discrete predictors, we don't know whether their numerical values actually carry order of magnitude information or there are some underlying categories and they should be treated as catergorical variables. Due to the lack of context, we will just treat them as they are, i.e. numerical discrete variables. "
   ]
  },
  {
   "cell_type": "code",
   "execution_count": 3,
   "metadata": {},
   "outputs": [
    {
     "data": {
      "image/png": "[encoded data removed]",
      "text/plain": [
       "<matplotlib.figure.Figure at 0x1a296326a0>"
      ]
     },
     "metadata": {},
     "output_type": "display_data"
    }
   ],
   "source": [
    "all_predictors = ['V1', 'V2', 'V3', 'V4', 'V5', 'V6', 'V7']\n",
    "train_data[all_predictors].hist(figsize=(10, 10));"
   ]
  },
  {
   "cell_type": "markdown",
   "metadata": {},
   "source": [
    "The Kolmogorov–Smirnov test is a non-parametric test that helps us quantify a distance between the empirical distribution functions of two samples. Based on this test and the class label information, we can see how well each predictor helps seperate the two classes of our binary target variable. "
   ]
  },
  {
   "cell_type": "code",
   "execution_count": 4,
   "metadata": {},
   "outputs": [
    {
     "data": {
      "text/html": [
       "<div>\n",
       "<style scoped>\n",
       "    .dataframe tbody tr th:only-of-type {\n",
       "        vertical-align: middle;\n",
       "    }\n",
       "\n",
       "    .dataframe tbody tr th {\n",
       "        vertical-align: top;\n",
       "    }\n",
       "\n",
       "    .dataframe thead th {\n",
       "        text-align: right;\n",
       "    }\n",
       "</style>\n",
       "<table border=\"1\" class=\"dataframe\">\n",
       "  <thead>\n",
       "    <tr style=\"text-align: right;\">\n",
       "      <th></th>\n",
       "      <th>column</th>\n",
       "      <th>ks_statistic</th>\n",
       "      <th>p_value</th>\n",
       "    </tr>\n",
       "  </thead>\n",
       "  <tbody>\n",
       "    <tr>\n",
       "      <th>3</th>\n",
       "      <td>V4</td>\n",
       "      <td>0.136494</td>\n",
       "      <td>0.0000</td>\n",
       "    </tr>\n",
       "    <tr>\n",
       "      <th>4</th>\n",
       "      <td>V5</td>\n",
       "      <td>0.079250</td>\n",
       "      <td>0.0000</td>\n",
       "    </tr>\n",
       "    <tr>\n",
       "      <th>2</th>\n",
       "      <td>V3</td>\n",
       "      <td>0.037236</td>\n",
       "      <td>0.1133</td>\n",
       "    </tr>\n",
       "    <tr>\n",
       "      <th>0</th>\n",
       "      <td>V1</td>\n",
       "      <td>0.023627</td>\n",
       "      <td>0.6101</td>\n",
       "    </tr>\n",
       "    <tr>\n",
       "      <th>1</th>\n",
       "      <td>V2</td>\n",
       "      <td>0.017718</td>\n",
       "      <td>0.9013</td>\n",
       "    </tr>\n",
       "    <tr>\n",
       "      <th>5</th>\n",
       "      <td>V6</td>\n",
       "      <td>0.010244</td>\n",
       "      <td>0.9999</td>\n",
       "    </tr>\n",
       "    <tr>\n",
       "      <th>6</th>\n",
       "      <td>V7</td>\n",
       "      <td>0.004636</td>\n",
       "      <td>1.0000</td>\n",
       "    </tr>\n",
       "  </tbody>\n",
       "</table>\n",
       "</div>"
      ],
      "text/plain": [
       "  column  ks_statistic  p_value\n",
       "3     V4      0.136494   0.0000\n",
       "4     V5      0.079250   0.0000\n",
       "2     V3      0.037236   0.1133\n",
       "0     V1      0.023627   0.6101\n",
       "1     V2      0.017718   0.9013\n",
       "5     V6      0.010244   0.9999\n",
       "6     V7      0.004636   1.0000"
      ]
     },
     "execution_count": 4,
     "metadata": {},
     "output_type": "execute_result"
    }
   ],
   "source": [
    "ks_stats, p_vals = [], []\n",
    "for col in all_predictors:\n",
    "    stat, pval = ks_2samp(train_data.loc[train_data['purchase'] == 0, col], \n",
    "                          train_data.loc[train_data['purchase'] == 1, col])\n",
    "    ks_stats.append(stat)\n",
    "    p_vals.append(round(pval, 4))\n",
    "ks_res = (\n",
    "    pd.DataFrame({'column': all_predictors, 'ks_statistic': ks_stats, 'p_value': p_vals})\n",
    "    .sort_values(by=['ks_statistic'], ascending=False)\n",
    ")\n",
    "ks_res"
   ]
  },
  {
   "cell_type": "markdown",
   "metadata": {},
   "source": [
    "Apparently, only the K-S statistics of `V4` and `V5` are statistically signficant, which suggests that only these 2 variables might be predictive of predicting whether a customer purchases or not. Therefore, moving forward, we will only use these 2 predictors for modeling."
   ]
  },
  {
   "cell_type": "code",
   "execution_count": 5,
   "metadata": {
    "collapsed": true
   },
   "outputs": [],
   "source": [
    "predictors = ['V4', 'V5']"
   ]
  },
  {
   "cell_type": "markdown",
   "metadata": {},
   "source": [
    "## Utility functions"
   ]
  },
  {
   "cell_type": "code",
   "execution_count": 6,
   "metadata": {
    "collapsed": true
   },
   "outputs": [],
   "source": [
    "def calculate_num_ctrl_treat(data, treat_col='Promotion'):\n",
    "    \"\"\"\n",
    "    Calculate number of purchasers as well as total number of customers in both promotion and\n",
    "    non-promotion groups\n",
    "    :param data: data frame that includes customer information (buy-or-not, promoted-to-or-not)\n",
    "    :param treat_col: name of column that indicates whether a customer receives promotion\n",
    "    :return: #purchasers in treatment group, #customers in treatement group, \n",
    "             #purchasers in control group, #customers in control group\n",
    "    \"\"\"\n",
    "    purch_treat = len(data[(data[treat_col] == 'Yes') & (data['purchase'] == 1)])\n",
    "    cust_treat = len(data[(data[treat_col] == 'Yes')])\n",
    "\n",
    "    purch_ctrl = len(data[(data[treat_col] == 'No') & (data['purchase'] == 1)])\n",
    "    cust_ctrl = len(data[(data[treat_col] == 'No')])\n",
    "    \n",
    "    return purch_treat, cust_treat, purch_ctrl, cust_ctrl\n",
    "\n",
    "def calculate_irr(data, treat_col='Promotion'):\n",
    "    \"\"\"\n",
    "    Calculate incremental response rate (see formula above)\n",
    "    :param data: data frame that includes customer information (buy-or-not, promoted-to-or-not)\n",
    "    :param treat_col: name of column that indicates whether a customer receives promotion\n",
    "    :return: incremental response rate\n",
    "    \"\"\"\n",
    "    purch_treat, cust_treat, purch_ctrl, cust_ctrl = calculate_num_ctrl_treat(data, treat_col)\n",
    "    irr = (purch_treat/cust_treat) - (purch_ctrl/cust_ctrl) \n",
    "    return irr\n",
    "\n",
    "def calculate_nir(data, treat_col='Promotion'):\n",
    "    \"\"\"\n",
    "    Calculate net incremental revenue (see formula above)\n",
    "    :param data: data frame that includes customer information (buy-or-not, promoted-to-or-not)\n",
    "    :param treat_col: name of column that indicates whether a customer receives promotion\n",
    "    :return: net incremental revenue\n",
    "    \"\"\"\n",
    "    purch_treat, cust_treat, purch_ctrl, _ = calculate_num_ctrl_treat(data, treat_col)\n",
    "    nir = (10*purch_treat - 0.15*cust_treat) - 10*purch_ctrl\n",
    "    return nir\n",
    "\n",
    "def display_biz_metrics(data, treat_col='Promotion'):\n",
    "    \"\"\"\n",
    "    Display calculated IRR and NIR\n",
    "    :param data: data frame that includes customer information (buy-or-not, promoted-to-or-not)\n",
    "    :param treat_col: name of column that indicates whether a customer receives promotion\n",
    "    :return: None\n",
    "    \"\"\"\n",
    "    try:\n",
    "        print('Incremental Response Rate: ', calculate_irr(data, treat_col))\n",
    "        print('Net Incremental Revenue: ', calculate_nir(data, treat_col))\n",
    "    except ZeroDivisionError:\n",
    "        print('ZeroDivisionError')\n",
    "\n",
    "def jitter(a_series, noise_reduction=1000000):\n",
    "    \"\"\"\n",
    "    Add subtle and random noise to a numerical value to avoid the problem of duplicate bin edges \n",
    "    when performing quantile-based discretization\n",
    "    :param a_series: series of numerical values\n",
    "    :noise_reduction: magnitude of noise reduction\n",
    "    :return: series of values that have been jittered\n",
    "    \"\"\"\n",
    "    return (np.random.random(len(a_series)) * a_series.std()/noise_reduction) - (a_series.std() / (2*noise_reduction))\n",
    "\n",
    "def create_lift_df(data, treat_prob, ctrl_prob):\n",
    "    \"\"\"\n",
    "    Add lift value and its corresponding decile to the original dataframe provided\n",
    "    :param data: data frame that includes customer information (buy-or-not, promoted-to-or-not)\n",
    "    :param treat_prob: predicted probability of buying when customer is in treatment group\n",
    "    :param ctrl_prob: predicted probability of buying when customer is control group\n",
    "    :return: original dataframe with added columns\n",
    "    \"\"\"\n",
    "    lift_df = (\n",
    "        data\n",
    "        .assign(lift = treat_prob - ctrl_prob,\n",
    "                # smaller decile, higher lift\n",
    "                lift_decile = lambda x: pd.qcut(x['lift'] + jitter(x['lift']), 10, labels=[i for i in range(10, 0, -1)])) \n",
    "        .sort_values(by='lift_decile', ascending=False)\n",
    "        .reset_index(drop=True)\n",
    "    )\n",
    "    return lift_df"
   ]
  },
  {
   "cell_type": "markdown",
   "metadata": {},
   "source": [
    "## Baseline model (assignment in current dataset - `Promotions` column)"
   ]
  },
  {
   "cell_type": "code",
   "execution_count": 7,
   "metadata": {},
   "outputs": [
    {
     "name": "stdout",
     "output_type": "stream",
     "text": [
      "Train data:\n",
      "Incremental Response Rate:  0.009454547819772702\n",
      "Net Incremental Revenue:  -2334.5999999999995\n"
     ]
    }
   ],
   "source": [
    "print('Train data:')\n",
    "display_biz_metrics(train_data)"
   ]
  },
  {
   "cell_type": "code",
   "execution_count": 8,
   "metadata": {},
   "outputs": [
    {
     "name": "stdout",
     "output_type": "stream",
     "text": [
      "Test data:\n",
      "Incremental Response Rate:  0.009593158278250108\n",
      "Net Incremental Revenue:  -1132.1999999999998\n"
     ]
    }
   ],
   "source": [
    "print('Test data:')\n",
    "display_biz_metrics(test_data)"
   ]
  },
  {
   "cell_type": "markdown",
   "metadata": {},
   "source": [
    "In addition to these results, Starbucks states in their document that they were able to come up with a model with an IRR of 0.0188 and an NIR of 189.45 on the test set. We can also use these numbers as a benchmark. "
   ]
  },
  {
   "cell_type": "markdown",
   "metadata": {},
   "source": [
    "## The two-model approach"
   ]
  },
  {
   "cell_type": "markdown",
   "metadata": {},
   "source": [
    "This approach consists building two seperate models for treatment and control groups. These models tell us the likehood of a customer to purchase when they receive the promotion offers and when they don't, respectively. After these two classifiers are constructed, we score all customers using both models. Thus, each customer now has two probabilities and the difference between these two is the uplift score.   "
   ]
  },
  {
   "cell_type": "code",
   "execution_count": 9,
   "metadata": {
    "collapsed": true
   },
   "outputs": [],
   "source": [
    "train, valid = train_test_split(train_data, test_size=0.2, random_state=42)\n",
    "\n",
    "train_treat_grp = train[train['Promotion'] == 'Yes']\n",
    "train_ctrl_grp = train[train['Promotion'] == 'No']\n",
    "    \n",
    "X_train_treat = train_treat_grp[predictors]\n",
    "y_train_treat = train_treat_grp['purchase']\n",
    "    \n",
    "X_train_ctrl = train_ctrl_grp[predictors]\n",
    "y_train_ctrl = train_ctrl_grp['purchase']\n",
    "\n",
    "X_test = test_data[predictors]\n",
    "y_test = test_data['purchase']\n",
    "\n",
    "X_valid = valid[predictors]\n",
    "y_valid = valid['purchase']"
   ]
  },
  {
   "cell_type": "markdown",
   "metadata": {},
   "source": [
    "To deal with the imbalance classification problem, we employ SMOTE to oversample our minority class. Please note that `sampling_strategy` is a parameter that can be tuned as well."
   ]
  },
  {
   "cell_type": "code",
   "execution_count": 10,
   "metadata": {
    "collapsed": true
   },
   "outputs": [],
   "source": [
    "sm_treat = SMOTE(random_state=42, sampling_strategy=1)\n",
    "sm_ctrl = SMOTE(random_state=42, sampling_strategy=1)"
   ]
  },
  {
   "cell_type": "code",
   "execution_count": 11,
   "metadata": {},
   "outputs": [
    {
     "name": "stdout",
     "output_type": "stream",
     "text": [
      "Distribution of target variable after SMOTE\n",
      "Train treatment group: Counter({0: 33351, 1: 33351})\n",
      "Train control group: Counter({0: 33444, 1: 33444})\n"
     ]
    }
   ],
   "source": [
    "X_train_treat_sm, y_train_treat_sm = sm_treat.fit_sample(X_train_treat, y_train_treat)\n",
    "X_train_ctrl_sm, y_train_ctrl_sm = sm_ctrl.fit_sample(X_train_ctrl, y_train_ctrl)\n",
    "\n",
    "print('Distribution of target variable after SMOTE')\n",
    "print('Train treatment group:', Counter(y_train_treat_sm))\n",
    "print('Train control group:', Counter(y_train_ctrl_sm))"
   ]
  },
  {
   "cell_type": "markdown",
   "metadata": {},
   "source": [
    "Hyperparameter tuning is strongly recommended when model performance is of high priority. One thing to note here is that as you perform the cross-validation process, you need to make sure not to oversample the validation set. Thankfully, the `imblearn` package has its own `Pipeline` to handle the samplers correctly. The code for the modeling sequence would look something like this:\n",
    "\n",
    "```\n",
    "model_ct = Pipeline([\n",
    "        ('os', SMOTE(random_state=42, sampling_strategy=1)),\n",
    "        ('rf', RandomForestClassifier(random_state=42))\n",
    "    ])\n",
    "parameters = {\n",
    "    'rf__n_estimators': (100, 500),\n",
    "    'rf__min_samples_split': (2, 4)\n",
    "}\n",
    "cv = GridSearchCV(model_ct, param_grid=parameters)\n",
    "cv.fit(X_train, y_train)\n",
    "```"
   ]
  },
  {
   "cell_type": "markdown",
   "metadata": {},
   "source": [
    "Due to time limitation and our focus on uplift models in this exercise, we didn't go through the hyperparameter tuning process. Instead, we just fit a random forest model using the default sklearn configurations and 500 trees. "
   ]
  },
  {
   "cell_type": "code",
   "execution_count": 12,
   "metadata": {
    "collapsed": true
   },
   "outputs": [],
   "source": [
    "rf_treat = RandomForestClassifier(random_state=42, n_estimators=500).fit(X_train_treat_sm, y_train_treat_sm)\n",
    "rf_ctrl = RandomForestClassifier(random_state=42, n_estimators=500).fit(X_train_ctrl_sm, y_train_ctrl_sm)"
   ]
  },
  {
   "cell_type": "markdown",
   "metadata": {},
   "source": [
    "We then used to the trained models to predict the probabilities of purchasing on the validation set, given they are in the control or treatment group. As mentioned, the difference between the two scores is the lift value.  "
   ]
  },
  {
   "cell_type": "code",
   "execution_count": 13,
   "metadata": {},
   "outputs": [
    {
     "name": "stdout",
     "output_type": "stream",
     "text": [
      "Mean of actual lift in validation set: 0.861%\n"
     ]
    }
   ],
   "source": [
    "valid_treat_prob = rf_treat.predict_proba(X_valid)[:, 1]\n",
    "valid_ctrl_prob = rf_ctrl.predict_proba(X_valid)[:, 1]\n",
    "\n",
    "valid_2m = create_lift_df(valid, valid_treat_prob, valid_ctrl_prob)\n",
    "actual_lift = valid_2m.groupby(['lift_decile']).apply(lambda x: calculate_irr(x, 'Promotion'))\n",
    "print('Mean of actual lift in validation set: {}%'.format(round((actual_lift * 100).mean(), 3)))"
   ]
  },
  {
   "cell_type": "markdown",
   "metadata": {},
   "source": [
    "To decide on which customers to target, we first split all our customers into 10 bins based on their lift values. Bin 1 is the bin with highest lift, and bin 10 with lowest lift. These bins will contain some customers who were in treatment and some in control group. The difference between treatment response rate and control response rate is the actual lift in that bin (while the orginal lift value used to split customers into bins is the predicted lift). "
   ]
  },
  {
   "cell_type": "code",
   "execution_count": 14,
   "metadata": {},
   "outputs": [
    {
     "name": "stdout",
     "output_type": "stream",
     "text": [
      "The average percentage of actual lift for each predicted lift decile: \n",
      "\n",
      "  predicted_lift_decile  actual_lift_perc\n",
      "9                     1          1.491176\n",
      "8                     2          2.511176\n",
      "7                     3          2.205414\n",
      "6                     4          1.417740\n",
      "5                     5          0.329335\n",
      "4                     6          0.609249\n",
      "3                     7          0.275306\n",
      "2                     8         -0.261978\n",
      "1                     9         -0.136122\n",
      "0                    10          0.164795\n"
     ]
    }
   ],
   "source": [
    "actual_lift_df = (\n",
    "    pd.DataFrame(actual_lift * 100)\n",
    "    .reset_index()\n",
    "    .rename(columns={'lift_decile': 'predicted_lift_decile', 0: 'actual_lift_perc'})\n",
    "    .sort_values(by='predicted_lift_decile', ascending=False)\n",
    ")\n",
    "print('The average percentage of actual lift for each predicted lift decile: \\n')\n",
    "print(actual_lift_df)"
   ]
  },
  {
   "cell_type": "code",
   "execution_count": 15,
   "metadata": {},
   "outputs": [
    {
     "data": {
      "image/png": "[encoded data removed]",
      "text/plain": [
       "<matplotlib.figure.Figure at 0x1a2d92be10>"
      ]
     },
     "metadata": {},
     "output_type": "display_data"
    }
   ],
   "source": [
    "plt.plot([i for i in range(1, 11)], actual_lift_df['actual_lift_perc'])\n",
    "plt.hlines(actual_lift_df['actual_lift_perc'].mean(), xmin=0, xmax=10, label='mean', color='r', linestyle='--')\n",
    "plt.xlabel('Bin (from predicted lift)')\n",
    "plt.ylabel('Actual lift (%)')\n",
    "plt.title('Bin-wise Lift')\n",
    "plt.show()"
   ]
  },
  {
   "cell_type": "markdown",
   "metadata": {},
   "source": [
    "There are  are primarily four types of customers we deal with when planning a marketing campaign:  \n",
    "\n",
    "1) Lost Causes: **don't** buy no matter receiving promotions or not  \n",
    "2) Sure Things: **do** buy no matter receiving promotions or not  \n",
    "3) Do-Not-Disturbs: buy if **don't** receive promotions  \n",
    "4) Persuadables: buy if **do** receive promotions  \n",
    "\n",
    "We want to pay attention to the “Persuadables”, those consumers who will only buy if they receive a promotion. We don't want to spend marketing dollars on those who are going buy anyway, those who do not want to receive our offers, or those who will not ever consider our offer. \n",
    "\n",
    "Based on the bin-wise lift figure above, it seems like customers in bin 1, 2, 3 and 4 with actual lift above average belong to the Persuadables group; customers in bin 5, 6, 7, 8 are in the Sure Things/Lost Causes groups and those in bin 8 and 10 with negative lift prefer to not be disturbed. According to these results from the validation set, we decide to send promotions to customers who are in the first four bins.  "
   ]
  },
  {
   "cell_type": "code",
   "execution_count": 16,
   "metadata": {
    "collapsed": true
   },
   "outputs": [],
   "source": [
    "test_treat_prob = rf_treat.predict_proba(X_test.values)[:, 1]\n",
    "test_ctrl_prob = rf_ctrl.predict_proba(X_test.values)[:, 1]\n",
    "test_2m = create_lift_df(X_test, test_treat_prob, test_ctrl_prob)"
   ]
  },
  {
   "cell_type": "code",
   "execution_count": 17,
   "metadata": {},
   "outputs": [
    {
     "name": "stdout",
     "output_type": "stream",
     "text": [
      "Incremental Response Rate:  0.009133425459447612\n",
      "Net Incremental Revenue:  -496.14999999999986\n"
     ]
    }
   ],
   "source": [
    "promos_2m = np.where(test_2m['lift_decile'].isin([1, 2, 3, 4]), 'Yes', 'No')\n",
    "score_2m = test_data.iloc[promos_2m == 'Yes']\n",
    "display_biz_metrics(score_2m)"
   ]
  },
  {
   "cell_type": "markdown",
   "metadata": {},
   "source": [
    "This is an improvement over the current assignment on the test data (`Promotions` column), especially in terms of NIR. Nevertheless, the performance of this model is still far behind that of the benchmark model by Starbucks. "
   ]
  },
  {
   "cell_type": "markdown",
   "metadata": {},
   "source": [
    "## The class transformation approach"
   ]
  },
  {
   "cell_type": "markdown",
   "metadata": {},
   "source": [
    "This approach includes creating a new target variable which corresponds to the Persuadables quadrant. Specifically, the new response variable is equal to one if  the customer belongs to the treatment group and they do purchase. In all other cases, the target takes on value zero. Our problem could then be solved with a standard binary classifacation model. We'll want to send promotions to customers whose target is one in this case. "
   ]
  },
  {
   "cell_type": "code",
   "execution_count": 18,
   "metadata": {
    "collapsed": true
   },
   "outputs": [],
   "source": [
    "train_data['response'] = np.where(((train_data['Promotion'] == 'Yes') & (train_data['purchase'] == 1)), 1, 0)\n",
    "test_data['response'] = np.where(((test_data['Promotion'] == 'Yes') & (test_data['purchase'] == 1)), 1, 0)"
   ]
  },
  {
   "cell_type": "code",
   "execution_count": 19,
   "metadata": {},
   "outputs": [
    {
     "name": "stdout",
     "output_type": "stream",
     "text": [
      "Distribution of new response variable: Counter({0: 83813, 1: 721})\n"
     ]
    }
   ],
   "source": [
    "print('Distribution of new response variable:', Counter(train_data['response']))"
   ]
  },
  {
   "cell_type": "code",
   "execution_count": 20,
   "metadata": {
    "collapsed": true
   },
   "outputs": [],
   "source": [
    "X_train = train_data[predictors]\n",
    "y_train = train_data['response']\n",
    "\n",
    "X_test = test_data[predictors]\n",
    "y_test = test_data['response']"
   ]
  },
  {
   "cell_type": "code",
   "execution_count": 21,
   "metadata": {},
   "outputs": [
    {
     "name": "stdout",
     "output_type": "stream",
     "text": [
      "Distribution of new response variable after SMOTE: Counter({0: 83813, 1: 83813})\n"
     ]
    }
   ],
   "source": [
    "sm = SMOTE(random_state=42, sampling_strategy=1)\n",
    "X_train_sm, y_train_sm = sm.fit_sample(X_train, y_train)\n",
    "print('Distribution of new response variable after SMOTE:', Counter(y_train_sm))"
   ]
  },
  {
   "cell_type": "code",
   "execution_count": 22,
   "metadata": {},
   "outputs": [
    {
     "data": {
      "text/plain": [
       "XGBClassifier(base_score=0.5, booster='gbtree', colsample_bylevel=1,\n",
       "              colsample_bynode=1, colsample_bytree=1, gamma=0,\n",
       "              learning_rate=0.1, max_delta_step=0, max_depth=3,\n",
       "              min_child_weight=1, missing=None, n_estimators=100, n_jobs=1,\n",
       "              nthread=None, objective='binary:logistic', random_state=0,\n",
       "              reg_alpha=0, reg_lambda=1, scale_pos_weight=1, seed=42,\n",
       "              silent=True, subsample=1, verbosity=1)"
      ]
     },
     "execution_count": 22,
     "metadata": {},
     "output_type": "execute_result"
    }
   ],
   "source": [
    "xgb = xgb.XGBClassifier(objective='binary:logistic', seed=42, silent=True)\n",
    "xgb.fit(X_train_sm, y_train_sm)"
   ]
  },
  {
   "cell_type": "code",
   "execution_count": 23,
   "metadata": {},
   "outputs": [
    {
     "name": "stdout",
     "output_type": "stream",
     "text": [
      "ROC-AUC score on test set using predicted probabilities: 0.6540368764767204\n",
      "ROC-AUC score on test set using binary predictions: 0.6343259693058532\n"
     ]
    }
   ],
   "source": [
    "test_prob = xgb.predict_proba(X_test.values)[:, 1]\n",
    "test_pred = xgb.predict(X_test.values)\n",
    "\n",
    "print('ROC-AUC score on test set using predicted probabilities:', roc_auc_score(y_test, test_prob))\n",
    "print('ROC-AUC score on test set using binary predictions:', roc_auc_score(y_test, test_pred))"
   ]
  },
  {
   "cell_type": "code",
   "execution_count": 24,
   "metadata": {},
   "outputs": [
    {
     "name": "stdout",
     "output_type": "stream",
     "text": [
      "Incremental Response Rate:  0.01976669631481286\n",
      "Net Incremental Revenue:  416.20000000000005\n"
     ]
    }
   ],
   "source": [
    "promos_ct = np.where(test_pred == 1, 'Yes', 'No')\n",
    "score_ct = test_data.iloc[np.where(promos_ct == 'Yes')]\n",
    "display_biz_metrics(score_ct)"
   ]
  },
  {
   "cell_type": "markdown",
   "metadata": {},
   "source": [
    "This model outperforms Starbuck benchmark model in terms of both IRR and NIR. "
   ]
  },
  {
   "cell_type": "markdown",
   "metadata": {},
   "source": [
    "## The treatment indicator variable approach"
   ]
  },
  {
   "cell_type": "markdown",
   "metadata": {},
   "source": [
    "In order to incorporate the information of whether one receives promotion or not while building one single model, we use the `Promotions` column itself as a predictor in our classifier in addition to `V4` and `V5`. Then, to predict whether a new individual is likely to respond favorably to the promotions, we set this treatment dummy indicator to be both 0 and 1. Specifically, for each unseen customer, we apply the trained model on the observation assuming they are in the treatment group (i.e. treatment dummy = 1) to predict the probability of purchase when receiving promotion and apply the model again, but this time, assuming they are in the control group (i.e. treatment dummy = 0) to predict the probability of purchase when not receiving promotion. The difference between these two probabilities is the lift value for the particular customer. In this exercise, we decide to send promotions to those whose lift value is positive. "
   ]
  },
  {
   "cell_type": "code",
   "execution_count": 25,
   "metadata": {},
   "outputs": [
    {
     "name": "stdout",
     "output_type": "stream",
     "text": [
      "Distribution of target variable: Counter({0: 83494, 1: 1040})\n"
     ]
    }
   ],
   "source": [
    "train_data['promo'] = np.where(train_data['Promotion'] == 'Yes', 1, 0)\n",
    "X_train = train_data[predictors + ['promo']]\n",
    "y_train = train_data['purchase']\n",
    "print('Distribution of target variable:', Counter(y_train))"
   ]
  },
  {
   "cell_type": "code",
   "execution_count": 26,
   "metadata": {
    "collapsed": true
   },
   "outputs": [],
   "source": [
    "X_test0 = test_data[predictors]\n",
    "X_test0['promo'] = 0\n",
    "\n",
    "X_test1 = test_data[predictors]\n",
    "X_test1['promo'] = 1\n",
    "\n",
    "y_test = test_data['purchase']"
   ]
  },
  {
   "cell_type": "code",
   "execution_count": 27,
   "metadata": {},
   "outputs": [
    {
     "name": "stdout",
     "output_type": "stream",
     "text": [
      "Distribution of target variable after SMOTE: Counter({0: 83494, 1: 83494})\n"
     ]
    }
   ],
   "source": [
    "sm = SMOTE(random_state=42, sampling_strategy=1)\n",
    "X_train_sm, y_train_sm = sm.fit_sample(X_train, y_train)\n",
    "print('Distribution of target variable after SMOTE:', Counter(y_train_sm))"
   ]
  },
  {
   "cell_type": "code",
   "execution_count": 28,
   "metadata": {},
   "outputs": [
    {
     "data": {
      "text/plain": [
       "XGBClassifier(base_score=0.5, booster='gbtree', colsample_bylevel=1,\n",
       "              colsample_bynode=1, colsample_bytree=1, gamma=0,\n",
       "              learning_rate=0.1, max_delta_step=0, max_depth=3,\n",
       "              min_child_weight=1, missing=None, n_estimators=100, n_jobs=1,\n",
       "              nthread=None, objective='binary:logistic', random_state=0,\n",
       "              reg_alpha=0, reg_lambda=1, scale_pos_weight=1, seed=42,\n",
       "              silent=True, subsample=1, verbosity=1)"
      ]
     },
     "execution_count": 28,
     "metadata": {},
     "output_type": "execute_result"
    }
   ],
   "source": [
    "import xgboost as xgb\n",
    "xgb = xgb.XGBClassifier(objective = 'binary:logistic', seed = 42, silent = True)\n",
    "xgb.fit(X_train_sm, y_train_sm)"
   ]
  },
  {
   "cell_type": "code",
   "execution_count": 29,
   "metadata": {
    "collapsed": true
   },
   "outputs": [],
   "source": [
    "test_prob0 = xgb.predict_proba(X_test0.values)[:, 1]\n",
    "test_prob1 = xgb.predict_proba(X_test1.values)[:, 1]\n",
    "test_lift = test_prob1 - test_prob0"
   ]
  },
  {
   "cell_type": "code",
   "execution_count": 30,
   "metadata": {},
   "outputs": [
    {
     "name": "stdout",
     "output_type": "stream",
     "text": [
      "Incremental Response Rate:  0.012354929798376272\n",
      "Net Incremental Revenue:  -444.5499999999997\n"
     ]
    }
   ],
   "source": [
    "promos_ti = np.where(test_lift > 0, 'Yes', 'No')\n",
    "score_ti = test_data.iloc[np.where(promos_ti == 'Yes')]\n",
    "display_biz_metrics(score_ti)"
   ]
  },
  {
   "cell_type": "markdown",
   "metadata": {},
   "source": [
    "This approach performs better than the two-model method, but is not as well as the class transformation one and unable to beat the Starbucks baseline. "
   ]
  },
  {
   "cell_type": "markdown",
   "metadata": {},
   "source": [
    "## Conclusion"
   ]
  },
  {
   "cell_type": "markdown",
   "metadata": {},
   "source": [
    "| MODEL                                  | IRR    | NIR      |\n",
    "|----------------------------------------|--------|----------|\n",
    "| Current assignment (`Promotions` column) | 0.0096 | -1132.20 |\n",
    "| Starbucks benchmark                    | 0.0188 | 189.45   |\n",
    "| Two-model approach                     | 0.0091 | -496.15  |\n",
    "| Class transformation approach          | 0.0198 | 416.20   |\n",
    "| Treatment indicator approach           | 0.0124 | -444.54  |"
   ]
  },
  {
   "cell_type": "markdown",
   "metadata": {},
   "source": [
    "Based on the result on the test set, class transformation is the best approach which is able to outperform the Starbucks benchmark. Futhermore, the model achieves this performance while using only two features `V4` and `V5`.\n",
    "Considering that we are only using the default configurations for `xgboost` in this exercise, we expect the current best approach (class transformation) can deliver even better results when we properly go through the model selection process to select the best model class (e.g. random forest, xgboost, etc.) as well as the tuning procedure to choose the most optimal values for SMOTE oversampling ratio and model hyperparameters. "
   ]
  },
  {
   "cell_type": "code",
   "execution_count": null,
   "metadata": {
    "collapsed": true
   },
   "outputs": [],
   "source": []
  }
 ],
 "metadata": {
  "kernelspec": {
   "display_name": "Python 3",
   "language": "python",
   "name": "python3"
  },
  "language_info": {
   "codemirror_mode": {
    "name": "ipython",
    "version": 3
   },
   "file_extension": ".py",
   "mimetype": "text/x-python",
   "name": "python",
   "nbconvert_exporter": "python",
   "pygments_lexer": "ipython3",
   "version": "3.6.10"
  }
 },
 "nbformat": 4,
 "nbformat_minor": 2
}
