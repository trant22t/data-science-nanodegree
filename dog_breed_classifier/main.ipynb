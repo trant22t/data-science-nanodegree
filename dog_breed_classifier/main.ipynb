{
 "cells": [
  {
   "cell_type": "markdown",
   "metadata": {},
   "source": [
    "## Main task\n",
    "\n",
    "In this exercise, we will make the first steps towards developing an algorithm that could be used as part of a mobile or web app to classify images of dogs according to their breed.  At the end of the project, our code will accept any user-supplied image as input.  If a dog is detected in the image, it will provide an estimate of the dog's breed.  If a human is detected, it will provide an estimate of the dog breed that is most resembling. \n",
    "\n",
    "In the real-world setting, we will need to piece together a series of models to perform different tasks; for instance, the algorithm that detects humans in an image will be different from the CNN that infers dog breed.  There are many points of possible failure, and no perfect algorithm exists.  Our imperfect solution will nonetheless create a fun user experience!\n",
    "\n",
    "### The Road Ahead\n",
    "\n",
    "We break the notebook into separate steps.  Feel free to use the links below to navigate the notebook.\n",
    "\n",
    "* [Step 0](#step0): Import Datasets\n",
    "* [Step 1](#step1): Detect Humans\n",
    "* [Step 2](#step2): Detect Dogs\n",
    "* [Step 3](#step3): Create a CNN to Classify Dog Breeds (from Scratch)\n",
    "* [Step 4](#step4): Use a CNN to Classify Dog Breeds (using Transfer Learning)\n",
    "* [Step 5](#step5): Create a CNN to Classify Dog Breeds (using Transfer Learning)\n",
    "* [Step 6](#step6): Write our Algorithm\n",
    "* [Step 7](#step7): Test our Algorithm\n",
    "\n",
    "---\n",
    "<a id='step0'></a>\n",
    "## Step 0: Import Datasets"
   ]
  },
  {
   "cell_type": "code",
   "execution_count": 1,
   "metadata": {},
   "outputs": [
    {
     "name": "stderr",
     "output_type": "stream",
     "text": [
      "Using TensorFlow backend.\n"
     ]
    }
   ],
   "source": [
    "from sklearn.datasets import load_files       \n",
    "from glob import glob\n",
    "from tqdm import tqdm\n",
    "from PIL import ImageFile \n",
    "\n",
    "import numpy as np\n",
    "import matplotlib.pyplot as plt                        \n",
    "%matplotlib inline  \n",
    "\n",
    "import random\n",
    "import cv2\n",
    "import warnings\n",
    "warnings.filterwarnings('ignore')\n",
    "\n",
    "from keras.utils import np_utils\n",
    "from keras.applications.resnet50 import ResNet50, preprocess_input, decode_predictions\n",
    "from keras.preprocessing import image \n",
    "from keras.layers import Conv2D, MaxPooling2D, GlobalAveragePooling2D, Dropout, Flatten, Dense\n",
    "from keras.models import Sequential\n",
    "from keras.callbacks import ModelCheckpoint  \n",
    "\n",
    "from extract_bottleneck_features import *"
   ]
  },
  {
   "cell_type": "markdown",
   "metadata": {},
   "source": [
    "### Import Dog Dataset\n",
    "\n",
    "In the code cell below, we import a dataset of dog images.  We populate a few variables through the use of the `load_files` function from the scikit-learn library:\n",
    "- `train_files`, `valid_files`, `test_files` - numpy arrays containing file paths to images\n",
    "- `train_targets`, `valid_targets`, `test_targets` - numpy arrays containing onehot-encoded classification labels \n",
    "- `dog_names` - list of string-valued dog breed names for translating labels"
   ]
  },
  {
   "cell_type": "code",
   "execution_count": 2,
   "metadata": {},
   "outputs": [
    {
     "name": "stdout",
     "output_type": "stream",
     "text": [
      "There are 133 total dog categories.\n",
      "There are 8351 total dog images.\n",
      "\n",
      "There are 6680 training dog images.\n",
      "There are 835 validation dog images.\n",
      "There are 836 test dog images.\n"
     ]
    }
   ],
   "source": [
    "def load_dataset(path):\n",
    "    \"\"\"\n",
    "    Load train, test and validation datasets\n",
    "    :param path: file path to data\n",
    "    :return: data files and their corresponding targets\n",
    "    \"\"\"\n",
    "    data = load_files(path)\n",
    "    dog_files = np.array(data['filenames'])\n",
    "    dog_targets = np_utils.to_categorical(np.array(data['target']), 133)\n",
    "    return dog_files, dog_targets\n",
    "\n",
    "# load train, test, and validation datasets\n",
    "train_files, train_targets = load_dataset('data/dog_images/train')\n",
    "valid_files, valid_targets = load_dataset('data/dog_images/valid')\n",
    "test_files, test_targets = load_dataset('data/dog_images/test')\n",
    "\n",
    "# load list of dog names\n",
    "dog_names = [item[20:-1] for item in sorted(glob(\"data/dog_images/train/*/\"))]\n",
    "\n",
    "# print statistics about the dataset\n",
    "print('There are %d total dog categories.' % len(dog_names))\n",
    "print('There are %s total dog images.\\n' % len(np.hstack([train_files, valid_files, test_files])))\n",
    "print('There are %d training dog images.' % len(train_files))\n",
    "print('There are %d validation dog images.' % len(valid_files))\n",
    "print('There are %d test dog images.'% len(test_files))"
   ]
  },
  {
   "cell_type": "markdown",
   "metadata": {},
   "source": [
    "### Import Human Dataset\n",
    "\n",
    "In the code cell below, we import a dataset of human images, where the file paths are stored in the numpy array `human_files`."
   ]
  },
  {
   "cell_type": "code",
   "execution_count": 3,
   "metadata": {},
   "outputs": [
    {
     "name": "stdout",
     "output_type": "stream",
     "text": [
      "There are 13233 total human images.\n"
     ]
    }
   ],
   "source": [
    "random.seed(8675309)\n",
    "\n",
    "# load filenames in shuffled human dataset\n",
    "human_files = np.array(glob(\"data/lfw/*/*\"))\n",
    "random.shuffle(human_files)\n",
    "\n",
    "# print statistics about the dataset\n",
    "print('There are %d total human images.' % len(human_files))"
   ]
  },
  {
   "cell_type": "markdown",
   "metadata": {},
   "source": [
    "---\n",
    "<a id='step1'></a>\n",
    "## Step 1: Detect Humans\n",
    "\n",
    "We use OpenCV's implementation of [Haar feature-based cascade classifiers](http://docs.opencv.org/trunk/d7/d8b/tutorial_py_face_detection.html) to detect human faces in images.  OpenCV provides many pre-trained face detectors, stored as XML files on [github](https://github.com/opencv/opencv/tree/master/data/haarcascades).  We have downloaded one of these detectors and stored it in the `haarcascades` directory.\n",
    "\n",
    "In the next code cell, we demonstrate how to use this detector to find human faces in a sample image."
   ]
  },
  {
   "cell_type": "code",
   "execution_count": 4,
   "metadata": {},
   "outputs": [
    {
     "name": "stdout",
     "output_type": "stream",
     "text": [
      "Number of faces detected: 1\n"
     ]
    },
    {
     "data": {
      "image/png": "[encoded data removed]",
      "text/plain": [
       "<matplotlib.figure.Figure at 0x10c2b5208>"
      ]
     },
     "metadata": {},
     "output_type": "display_data"
    }
   ],
   "source": [
    "# extract pre-trained face detector\n",
    "face_cascade = cv2.CascadeClassifier('haarcascades/haarcascade_frontalface_alt.xml')\n",
    "\n",
    "# load color (BGR) image\n",
    "img = cv2.imread(human_files[3])\n",
    "# convert BGR image to grayscale\n",
    "gray = cv2.cvtColor(img, cv2.COLOR_BGR2GRAY)\n",
    "\n",
    "# find faces in image\n",
    "faces = face_cascade.detectMultiScale(gray)\n",
    "\n",
    "# print number of faces detected in the image\n",
    "print('Number of faces detected:', len(faces))\n",
    "\n",
    "# get bounding box for each detected face\n",
    "for (x, y, w, h) in faces:\n",
    "    # add bounding box to color image\n",
    "    cv2.rectangle(img, (x, y),(x + w, y + h),(255, 0, 0), 2)\n",
    "    \n",
    "# convert BGR image to RGB for plotting\n",
    "cv_rgb = cv2.cvtColor(img, cv2.COLOR_BGR2RGB)\n",
    "\n",
    "# display the image, along with bounding box\n",
    "plt.imshow(cv_rgb)\n",
    "plt.show()"
   ]
  },
  {
   "cell_type": "markdown",
   "metadata": {},
   "source": [
    "Before using any of the face detectors, it is standard procedure to convert the images to grayscale.  The `detectMultiScale` function executes the classifier stored in `face_cascade` and takes the grayscale image as a parameter.  \n",
    "\n",
    "In the above code, `faces` is a numpy array of detected faces, where each row corresponds to a detected face.  Each detected face is a 1D array with four entries that specifies the bounding box of the detected face.  The first two entries in the array (extracted in the above code as `x` and `y`) specify the horizontal and vertical positions of the top left corner of the bounding box.  The last two entries in the array (extracted here as `w` and `h`) specify the width and height of the box.\n",
    "\n",
    "### Write a Human Face Detector\n",
    "\n",
    "We can use this procedure to write a function that returns `True` if a human face is detected in an image and `False` otherwise.  This function, aptly named `face_detector`, takes a string-valued file path to an image as input and appears in the code block below."
   ]
  },
  {
   "cell_type": "code",
   "execution_count": 5,
   "metadata": {
    "collapsed": true
   },
   "outputs": [],
   "source": [
    "def face_detector(img_path):\n",
    "    \"\"\"\n",
    "    Detect whether there's a human face in image stored at img_path\n",
    "    :param img_path: string-valued file location\n",
    "    :return: \"True\" if face is detected in image and \"False\" otherwise\n",
    "    \"\"\"\n",
    "    img = cv2.imread(img_path)\n",
    "    gray = cv2.cvtColor(img, cv2.COLOR_BGR2GRAY)\n",
    "    faces = face_cascade.detectMultiScale(gray)\n",
    "    return len(faces) > 0"
   ]
  },
  {
   "cell_type": "markdown",
   "metadata": {},
   "source": [
    "### Assess the Human Face Detector\n",
    "\n",
    "Ideally, we would like 100% of human images with a detected face and 0% of dog images with a detected face.  However, you will see that our algorithm falls short of this goal, but still gives acceptable performance.  We extract the file paths for the first 100 images from each of the datasets and store them in the numpy arrays `human_files_short` and `dog_files_short`."
   ]
  },
  {
   "cell_type": "code",
   "execution_count": 6,
   "metadata": {},
   "outputs": [
    {
     "name": "stdout",
     "output_type": "stream",
     "text": [
      "Percentage of the first 100 images in `human_files` to have a detected human face: 100.0\n",
      "Percentage of the first 100 images in `dog_files` to have a detected human face: 12.0\n"
     ]
    }
   ],
   "source": [
    "human_files_short = human_files[:100]\n",
    "dog_files_short = train_files[:100]\n",
    "\n",
    "# test the performance of the face_detector algorithm on the images in human_files_short and dog_files_short\n",
    "print('Percentage of the first 100 images in `human_files` to have a detected human face:',\n",
    "     np.sum([face_detector(i) for i in human_files_short])/ 100 * 100)\n",
    "print('Percentage of the first 100 images in `dog_files` to have a detected human face:',\n",
    "     np.sum([face_detector(i) for i in dog_files_short])/100 * 100)"
   ]
  },
  {
   "cell_type": "markdown",
   "metadata": {},
   "source": [
    "This algorithmic choice necessitates that we communicate to the user that we accept human images only when they provide a clear view of a face (otherwise, we risk having unneccessarily frustrated users)."
   ]
  },
  {
   "cell_type": "markdown",
   "metadata": {},
   "source": [
    "---\n",
    "<a id='step2'></a>\n",
    "## Step 2: Detect Dogs\n",
    "\n",
    "In this section, we use a pre-trained [ResNet-50](http://ethereon.github.io/netscope/#/gist/db945b393d40bfa26006) model to detect dogs in images.  Our first line of code downloads the ResNet-50 model, along with weights that have been trained on [ImageNet](http://www.image-net.org/), a very large, very popular dataset used for image classification and other vision tasks.  ImageNet contains over 10 million URLs, each linking to an image containing an object from one of [1000 categories](https://gist.github.com/yrevar/942d3a0ac09ec9e5eb3a).  Given an image, this pre-trained ResNet-50 model returns a prediction (derived from the available categories in ImageNet) for the object that is contained in the image."
   ]
  },
  {
   "cell_type": "code",
   "execution_count": 7,
   "metadata": {},
   "outputs": [
    {
     "name": "stderr",
     "output_type": "stream",
     "text": [
      "WARNING: Logging before flag parsing goes to stderr.\n",
      "W0608 11:01:38.909754 140735916036992 deprecation_wrapper.py:119] From /anaconda/lib/python3.6/site-packages/keras/backend/tensorflow_backend.py:74: The name tf.get_default_graph is deprecated. Please use tf.compat.v1.get_default_graph instead.\n",
      "\n",
      "W0608 11:01:38.924913 140735916036992 deprecation_wrapper.py:119] From /anaconda/lib/python3.6/site-packages/keras/backend/tensorflow_backend.py:517: The name tf.placeholder is deprecated. Please use tf.compat.v1.placeholder instead.\n",
      "\n",
      "W0608 11:01:38.929765 140735916036992 deprecation_wrapper.py:119] From /anaconda/lib/python3.6/site-packages/keras/backend/tensorflow_backend.py:4185: The name tf.truncated_normal is deprecated. Please use tf.random.truncated_normal instead.\n",
      "\n",
      "W0608 11:01:38.951057 140735916036992 deprecation_wrapper.py:119] From /anaconda/lib/python3.6/site-packages/keras/backend/tensorflow_backend.py:174: The name tf.get_default_session is deprecated. Please use tf.compat.v1.get_default_session instead.\n",
      "\n",
      "W0608 11:01:38.951890 140735916036992 deprecation_wrapper.py:119] From /anaconda/lib/python3.6/site-packages/keras/backend/tensorflow_backend.py:181: The name tf.ConfigProto is deprecated. Please use tf.compat.v1.ConfigProto instead.\n",
      "\n",
      "W0608 11:01:38.977108 140735916036992 deprecation_wrapper.py:119] From /anaconda/lib/python3.6/site-packages/keras/backend/tensorflow_backend.py:1834: The name tf.nn.fused_batch_norm is deprecated. Please use tf.compat.v1.nn.fused_batch_norm instead.\n",
      "\n",
      "W0608 11:01:39.112946 140735916036992 deprecation_wrapper.py:119] From /anaconda/lib/python3.6/site-packages/keras/backend/tensorflow_backend.py:3976: The name tf.nn.max_pool is deprecated. Please use tf.nn.max_pool2d instead.\n",
      "\n"
     ]
    }
   ],
   "source": [
    "warnings.filterwarnings('ignore')\n",
    "\n",
    "# define ResNet50 model\n",
    "ResNet50_model = ResNet50(weights='imagenet')"
   ]
  },
  {
   "cell_type": "markdown",
   "metadata": {},
   "source": [
    "### Pre-process the Data\n",
    "\n",
    "When using TensorFlow as backend, Keras CNNs require a 4D array (which we'll also refer to as a 4D tensor) as input, with shape\n",
    "\n",
    "$$\n",
    "(\\text{nb_samples}, \\text{rows}, \\text{columns}, \\text{channels}),\n",
    "$$\n",
    "\n",
    "where `nb_samples` corresponds to the total number of images (or samples), and `rows`, `columns`, and `channels` correspond to the number of rows, columns, and channels for each image, respectively.  \n",
    "\n",
    "The `path_to_tensor` function below takes a string-valued file path to a color image as input and returns a 4D tensor suitable for supplying to a Keras CNN.  The function first loads the image and resizes it to a square image that is $224 \\times 224$ pixels.  Next, the image is converted to an array, which is then resized to a 4D tensor.  In this case, since we are working with color images, each image has three channels.  Likewise, since we are processing a single image (or sample), the returned tensor will always have shape\n",
    "\n",
    "$$\n",
    "(1, 224, 224, 3).\n",
    "$$\n",
    "\n",
    "The `paths_to_tensor` function takes a numpy array of string-valued image paths as input and returns a 4D tensor with shape \n",
    "\n",
    "$$\n",
    "(\\text{nb_samples}, 224, 224, 3).\n",
    "$$\n",
    "\n",
    "Here, `nb_samples` is the number of samples, or number of images, in the supplied array of image paths.  It is best to think of `nb_samples` as the number of 3D tensors (where each 3D tensor corresponds to a different image) in your dataset!"
   ]
  },
  {
   "cell_type": "code",
   "execution_count": 8,
   "metadata": {
    "collapsed": true
   },
   "outputs": [],
   "source": [
    "def path_to_tensor(img_path):\n",
    "    \"\"\"\n",
    "    Load, resize and convert image to an array, which is then resized to a tensor \n",
    "    :param img_path: string-valued file path to a color image\n",
    "    :return: a 4D tensor suitable for supplying to a Keras CNN\n",
    "    \"\"\"\n",
    "    # loads RGB image as PIL.Image.Image type\n",
    "    img = image.load_img(img_path, target_size=(224, 224))\n",
    "    # convert PIL.Image.Image type to 3D tensor with shape (224, 224, 3)\n",
    "    x = image.img_to_array(img)\n",
    "    # convert 3D tensor to 4D tensor with shape (1, 224, 224, 3) and return 4D tensor\n",
    "    return np.expand_dims(x, axis=0)\n",
    "\n",
    "def paths_to_tensor(img_paths):\n",
    "    \"\"\"\n",
    "    Load, resize and convert multiple images to an array, which is then resized to a tensor \n",
    "    :param img_paths: Numpy array of string-valued image paths\n",
    "    :return: a 4D tensor with shape (nb_samples, 224, 224, 3)\n",
    "    \"\"\"\n",
    "    list_of_tensors = [path_to_tensor(img_path) for img_path in tqdm(img_paths)]\n",
    "    return np.vstack(list_of_tensors)"
   ]
  },
  {
   "cell_type": "markdown",
   "metadata": {},
   "source": [
    "### Making Predictions with ResNet-50\n",
    "\n",
    "Getting the 4D tensor ready for ResNet-50, and for any other pre-trained model in Keras, requires some additional processing.  First, the RGB image is converted to BGR by reordering the channels.  All pre-trained models have the additional normalization step that the mean pixel (expressed in RGB as $[103.939, 116.779, 123.68]$ and calculated from all pixels in all images in ImageNet) must be subtracted from every pixel in each image.  This is implemented in the imported function `preprocess_input`.  If you're curious, you can check the code for `preprocess_input` [here](https://github.com/fchollet/keras/blob/master/keras/applications/imagenet_utils.py).\n",
    "\n",
    "Now that we have a way to format our image for supplying to ResNet-50, we are now ready to use the model to extract the predictions.  This is accomplished with the `predict` method, which returns an array whose $i$-th entry is the model's predicted probability that the image belongs to the $i$-th ImageNet category.  This is implemented in the `ResNet50_predict_labels` function below.\n",
    "\n",
    "By taking the argmax of the predicted probability vector, we obtain an integer corresponding to the model's predicted object class, which we can identify with an object category through the use of this [dictionary](https://gist.github.com/yrevar/942d3a0ac09ec9e5eb3a). "
   ]
  },
  {
   "cell_type": "code",
   "execution_count": 9,
   "metadata": {
    "collapsed": true
   },
   "outputs": [],
   "source": [
    "def ResNet50_predict_labels(img_path):\n",
    "    \"\"\"\n",
    "    Extract prediction from ResNet-50 model for image located at img_path\n",
    "    :param img_path: string-valued image path\n",
    "    :return: an integer corresponding to the model's predicted object class, \n",
    "    \"\"\"\n",
    "    img = preprocess_input(path_to_tensor(img_path))\n",
    "    return np.argmax(ResNet50_model.predict(img))"
   ]
  },
  {
   "cell_type": "markdown",
   "metadata": {},
   "source": [
    "### Write a Dog Detector\n",
    "\n",
    "While looking at the [dictionary](https://gist.github.com/yrevar/942d3a0ac09ec9e5eb3a), we will notice that the categories corresponding to dogs appear in an uninterrupted sequence and correspond to dictionary keys 151-268, inclusive, to include all categories from `'Chihuahua'` to `'Mexican hairless'`.  Thus, in order to check to see if an image is predicted to contain a dog by the pre-trained ResNet-50 model, we need only check if the `ResNet50_predict_labels` function above returns a value between 151 and 268 (inclusive).\n",
    "\n",
    "We use these ideas to complete the `dog_detector` function below, which returns `True` if a dog is detected in an image (and `False` if not)."
   ]
  },
  {
   "cell_type": "code",
   "execution_count": 10,
   "metadata": {
    "collapsed": true
   },
   "outputs": [],
   "source": [
    "def dog_detector(img_path):\n",
    "    \"\"\"\n",
    "    Detect whether there's a dog face in image stored at img_path\n",
    "    :param img_path: string-valued file location\n",
    "    :return: \"True\" if dog face is detected in image and \"False\" otherwise\n",
    "    \"\"\"\n",
    "    prediction = ResNet50_predict_labels(img_path)\n",
    "    return ((prediction <= 268) & (prediction >= 151)) "
   ]
  },
  {
   "cell_type": "markdown",
   "metadata": {},
   "source": [
    "### Assess the Dog Detector"
   ]
  },
  {
   "cell_type": "code",
   "execution_count": 11,
   "metadata": {},
   "outputs": [
    {
     "name": "stdout",
     "output_type": "stream",
     "text": [
      "Percentage of the first 100 images in `human_files` to have a detected dog: 0.0\n",
      "Percentage of the first 100 images in `dog_files` to have a detected dog: 100.0\n"
     ]
    }
   ],
   "source": [
    "# test the performance of the dog_detector function on the images in human_files_short and dog_files_short\n",
    "print('Percentage of the first 100 images in `human_files` to have a detected dog:',\n",
    "     np.sum([dog_detector(i) for i in human_files_short])/ 100 * 100)\n",
    "print('Percentage of the first 100 images in `dog_files` to have a detected dog:',\n",
    "     np.sum([dog_detector(i) for i in dog_files_short])/100 * 100)"
   ]
  },
  {
   "cell_type": "markdown",
   "metadata": {},
   "source": [
    "---\n",
    "<a id='step3'></a>\n",
    "## Step 3: Create a CNN to Classify Dog Breeds (from Scratch)\n",
    "\n",
    "Now that we have functions for detecting humans and dogs in images, we need a way to predict breed from images.  In this step, we will create a CNN that classifies dog breeds.  We must create your CNN _from scratch_ (so, we can't use transfer learning _yet_!), and we must attain a test accuracy of at least 1%.  In Step 5 of this notebook, we will have the opportunity to use transfer learning to create a CNN that attains greatly improved accuracy.\n",
    "\n",
    "Be careful with adding too many trainable layers!  More parameters means longer training, which means we are more likely to need a GPU to accelerate the training process.  Thankfully, Keras provides a handy estimate of the time that each epoch is likely to take; we can extrapolate this estimate to figure out how long it will take for your algorithm to train. \n",
    "\n",
    "We mention that the task of assigning breed to dogs from images is considered exceptionally challenging.  To see why, consider that *even a human* would have great difficulty in distinguishing between a Brittany and a Welsh Springer Spaniel.  \n",
    "\n",
    "Brittany | Welsh Springer Spaniel\n",
    "- | - \n",
    "<img src=\"images/Brittany_02625.jpg\" width=\"100\"> | <img src=\"images/Welsh_springer_spaniel_08203.jpg\" width=\"200\">\n",
    "\n",
    "It is not difficult to find other dog breed pairs with minimal inter-class variation (for instance, Curly-Coated Retrievers and American Water Spaniels).  \n",
    "\n",
    "Curly-Coated Retriever | American Water Spaniel\n",
    "- | -\n",
    "<img src=\"images/Curly-coated_retriever_03896.jpg\" width=\"200\"> | <img src=\"images/American_water_spaniel_00648.jpg\" width=\"200\">\n",
    "\n",
    "\n",
    "Likewise, recall that labradors come in yellow, chocolate, and black.  Your vision-based algorithm will have to conquer this high intra-class variation to determine how to classify all of these different shades as the same breed.  \n",
    "\n",
    "Yellow Labrador | Chocolate Labrador | Black Labrador\n",
    "- | -\n",
    "<img src=\"images/Labrador_retriever_06457.jpg\" width=\"150\"> | <img src=\"images/Labrador_retriever_06455.jpg\" width=\"240\"> | <img src=\"images/Labrador_retriever_06449.jpg\" width=\"220\">\n",
    "\n",
    "We also mention that random chance presents an exceptionally low bar: setting aside the fact that the classes are slightly imabalanced, a random guess will provide a correct answer roughly 1 in 133 times, which corresponds to an accuracy of less than 1%.  \n",
    "\n",
    "Remember that the practice is far ahead of the theory in deep learning.  Experiment with many different architectures, and trust your intuition.  And, of course, have fun! \n",
    "\n",
    "### Pre-process the Data\n",
    "\n",
    "We rescale the images by dividing every pixel in every image by 255."
   ]
  },
  {
   "cell_type": "code",
   "execution_count": 12,
   "metadata": {},
   "outputs": [
    {
     "name": "stderr",
     "output_type": "stream",
     "text": [
      "100%|██████████| 6680/6680 [02:27<00:00, 45.24it/s]\n",
      "100%|██████████| 835/835 [00:19<00:00, 43.41it/s]\n",
      "100%|██████████| 836/836 [00:18<00:00, 45.10it/s]\n"
     ]
    }
   ],
   "source": [
    "ImageFile.LOAD_TRUNCATED_IMAGES = True                 \n",
    "\n",
    "# pre-process the data for Keras\n",
    "train_tensors = paths_to_tensor(train_files).astype('float32')/255\n",
    "valid_tensors = paths_to_tensor(valid_files).astype('float32')/255\n",
    "test_tensors = paths_to_tensor(test_files).astype('float32')/255"
   ]
  },
  {
   "cell_type": "markdown",
   "metadata": {},
   "source": [
    "### Model Architecture\n",
    "\n",
    "Here's an CNN architecture that we will use for this classification task:\n",
    "![Sample CNN](images/sample_cnn.png)"
   ]
  },
  {
   "cell_type": "code",
   "execution_count": 13,
   "metadata": {},
   "outputs": [
    {
     "name": "stdout",
     "output_type": "stream",
     "text": [
      "_________________________________________________________________\n",
      "Layer (type)                 Output Shape              Param #   \n",
      "=================================================================\n",
      "conv2d_1 (Conv2D)            (None, 223, 223, 16)      208       \n",
      "_________________________________________________________________\n",
      "max_pooling2d_2 (MaxPooling2 (None, 111, 111, 16)      0         \n",
      "_________________________________________________________________\n",
      "conv2d_2 (Conv2D)            (None, 110, 110, 32)      2080      \n",
      "_________________________________________________________________\n",
      "max_pooling2d_3 (MaxPooling2 (None, 55, 55, 32)        0         \n",
      "_________________________________________________________________\n",
      "conv2d_3 (Conv2D)            (None, 54, 54, 64)        8256      \n",
      "_________________________________________________________________\n",
      "max_pooling2d_4 (MaxPooling2 (None, 27, 27, 64)        0         \n",
      "_________________________________________________________________\n",
      "global_average_pooling2d_1 ( (None, 64)                0         \n",
      "_________________________________________________________________\n",
      "dense_1 (Dense)              (None, 133)               8645      \n",
      "=================================================================\n",
      "Total params: 19,189\n",
      "Trainable params: 19,189\n",
      "Non-trainable params: 0\n",
      "_________________________________________________________________\n"
     ]
    }
   ],
   "source": [
    "model = Sequential()\n",
    "orig_shape = train_tensors.shape\n",
    "\n",
    "model.add(Conv2D(filters=16, kernel_size=2, activation='relu', input_shape=(orig_shape[1], orig_shape[2], orig_shape[3])))\n",
    "model.add(MaxPooling2D(pool_size=2))\n",
    "model.add(Conv2D(32, kernel_size=2, activation='relu'))\n",
    "model.add(MaxPooling2D(pool_size=2))\n",
    "model.add(Conv2D(64, kernel_size=2, activation='relu'))\n",
    "model.add(MaxPooling2D(pool_size=2))\n",
    "model.add(GlobalAveragePooling2D())\n",
    "model.add(Dense(len(dog_names), activation='softmax'))\n",
    "\n",
    "model.summary()"
   ]
  },
  {
   "cell_type": "markdown",
   "metadata": {},
   "source": [
    "### Compile the Model"
   ]
  },
  {
   "cell_type": "code",
   "execution_count": 14,
   "metadata": {},
   "outputs": [
    {
     "name": "stderr",
     "output_type": "stream",
     "text": [
      "W0608 11:05:50.258443 140735916036992 deprecation_wrapper.py:119] From /anaconda/lib/python3.6/site-packages/keras/optimizers.py:790: The name tf.train.Optimizer is deprecated. Please use tf.compat.v1.train.Optimizer instead.\n",
      "\n"
     ]
    }
   ],
   "source": [
    "model.compile(optimizer='rmsprop', loss='categorical_crossentropy', metrics=['accuracy'])"
   ]
  },
  {
   "cell_type": "markdown",
   "metadata": {},
   "source": [
    "### Train the Model\n",
    "\n",
    "Train our model in the code cell below.  Use model checkpointing to save the model that attains the best validation loss.\n",
    "\n",
    "We can [augment the training data](https://blog.keras.io/building-powerful-image-classification-models-using-very-little-data.html), but this is not a requirement. "
   ]
  },
  {
   "cell_type": "code",
   "execution_count": 15,
   "metadata": {},
   "outputs": [
    {
     "name": "stderr",
     "output_type": "stream",
     "text": [
      "W0608 11:05:50.410835 140735916036992 deprecation.py:323] From /anaconda/lib/python3.6/site-packages/tensorflow/python/ops/math_grad.py:1250: add_dispatch_support.<locals>.wrapper (from tensorflow.python.ops.array_ops) is deprecated and will be removed in a future version.\n",
      "Instructions for updating:\n",
      "Use tf.where in 2.0, which has the same broadcast rule as np.where\n"
     ]
    },
    {
     "name": "stdout",
     "output_type": "stream",
     "text": [
      "Train on 6680 samples, validate on 835 samples\n",
      "Epoch 1/20\n",
      "6680/6680 [==============================] - 103s 15ms/step - loss: 4.8838 - acc: 0.0096 - val_loss: 4.8678 - val_acc: 0.0120\n",
      "\n",
      "Epoch 00001: val_loss improved from inf to 4.86779, saving model to saved_models/weights.best.from_scratch.hdf5\n",
      "Epoch 2/20\n",
      "6680/6680 [==============================] - 111s 17ms/step - loss: 4.8621 - acc: 0.0130 - val_loss: 4.8505 - val_acc: 0.0156\n",
      "\n",
      "Epoch 00002: val_loss improved from 4.86779 to 4.85046, saving model to saved_models/weights.best.from_scratch.hdf5\n",
      "Epoch 3/20\n",
      "6680/6680 [==============================] - 113s 17ms/step - loss: 4.8274 - acc: 0.0186 - val_loss: 4.8130 - val_acc: 0.0180\n",
      "\n",
      "Epoch 00003: val_loss improved from 4.85046 to 4.81297, saving model to saved_models/weights.best.from_scratch.hdf5\n",
      "Epoch 4/20\n",
      "6680/6680 [==============================] - 108s 16ms/step - loss: 4.7810 - acc: 0.0207 - val_loss: 4.7799 - val_acc: 0.0156\n",
      "\n",
      "Epoch 00004: val_loss improved from 4.81297 to 4.77986, saving model to saved_models/weights.best.from_scratch.hdf5\n",
      "Epoch 5/20\n",
      "6680/6680 [==============================] - 106s 16ms/step - loss: 4.7495 - acc: 0.0223 - val_loss: 4.7576 - val_acc: 0.0240\n",
      "\n",
      "Epoch 00005: val_loss improved from 4.77986 to 4.75758, saving model to saved_models/weights.best.from_scratch.hdf5\n",
      "Epoch 6/20\n",
      "6680/6680 [==============================] - 114s 17ms/step - loss: 4.7254 - acc: 0.0244 - val_loss: 4.7472 - val_acc: 0.0168\n",
      "\n",
      "Epoch 00006: val_loss improved from 4.75758 to 4.74717, saving model to saved_models/weights.best.from_scratch.hdf5\n",
      "Epoch 7/20\n",
      "6680/6680 [==============================] - 102s 15ms/step - loss: 4.7027 - acc: 0.0262 - val_loss: 4.7677 - val_acc: 0.0204\n",
      "\n",
      "Epoch 00007: val_loss did not improve from 4.74717\n",
      "Epoch 8/20\n",
      "6680/6680 [==============================] - 107s 16ms/step - loss: 4.6820 - acc: 0.0243 - val_loss: 4.7324 - val_acc: 0.0180\n",
      "\n",
      "Epoch 00008: val_loss improved from 4.74717 to 4.73244, saving model to saved_models/weights.best.from_scratch.hdf5\n",
      "Epoch 9/20\n",
      "6680/6680 [==============================] - 119s 18ms/step - loss: 4.6629 - acc: 0.0295 - val_loss: 4.7169 - val_acc: 0.0216\n",
      "\n",
      "Epoch 00009: val_loss improved from 4.73244 to 4.71693, saving model to saved_models/weights.best.from_scratch.hdf5\n",
      "Epoch 10/20\n",
      "6680/6680 [==============================] - 130s 20ms/step - loss: 4.6414 - acc: 0.0334 - val_loss: 4.7221 - val_acc: 0.0240\n",
      "\n",
      "Epoch 00010: val_loss did not improve from 4.71693\n",
      "Epoch 11/20\n",
      "6680/6680 [==============================] - 102s 15ms/step - loss: 4.6209 - acc: 0.0367 - val_loss: 4.6776 - val_acc: 0.0216\n",
      "\n",
      "Epoch 00011: val_loss improved from 4.71693 to 4.67756, saving model to saved_models/weights.best.from_scratch.hdf5\n",
      "Epoch 12/20\n",
      "6680/6680 [==============================] - 100s 15ms/step - loss: 4.5999 - acc: 0.0388 - val_loss: 4.6730 - val_acc: 0.0228\n",
      "\n",
      "Epoch 00012: val_loss improved from 4.67756 to 4.67297, saving model to saved_models/weights.best.from_scratch.hdf5\n",
      "Epoch 13/20\n",
      "6680/6680 [==============================] - 97s 14ms/step - loss: 4.5782 - acc: 0.0425 - val_loss: 4.6651 - val_acc: 0.0287\n",
      "\n",
      "Epoch 00013: val_loss improved from 4.67297 to 4.66511, saving model to saved_models/weights.best.from_scratch.hdf5\n",
      "Epoch 14/20\n",
      "6680/6680 [==============================] - 97s 15ms/step - loss: 4.5532 - acc: 0.0439 - val_loss: 4.6629 - val_acc: 0.0299\n",
      "\n",
      "Epoch 00014: val_loss improved from 4.66511 to 4.66286, saving model to saved_models/weights.best.from_scratch.hdf5\n",
      "Epoch 15/20\n",
      "6680/6680 [==============================] - 91s 14ms/step - loss: 4.5333 - acc: 0.0504 - val_loss: 4.6175 - val_acc: 0.0335\n",
      "\n",
      "Epoch 00015: val_loss improved from 4.66286 to 4.61751, saving model to saved_models/weights.best.from_scratch.hdf5\n",
      "Epoch 16/20\n",
      "6680/6680 [==============================] - 103s 15ms/step - loss: 4.5079 - acc: 0.0497 - val_loss: 4.6012 - val_acc: 0.0299\n",
      "\n",
      "Epoch 00016: val_loss improved from 4.61751 to 4.60119, saving model to saved_models/weights.best.from_scratch.hdf5\n",
      "Epoch 17/20\n",
      "6680/6680 [==============================] - 95s 14ms/step - loss: 4.4833 - acc: 0.0570 - val_loss: 4.5667 - val_acc: 0.0335\n",
      "\n",
      "Epoch 00017: val_loss improved from 4.60119 to 4.56670, saving model to saved_models/weights.best.from_scratch.hdf5\n",
      "Epoch 18/20\n",
      "6680/6680 [==============================] - 97s 15ms/step - loss: 4.4584 - acc: 0.0588 - val_loss: 4.5649 - val_acc: 0.0347\n",
      "\n",
      "Epoch 00018: val_loss improved from 4.56670 to 4.56486, saving model to saved_models/weights.best.from_scratch.hdf5\n",
      "Epoch 19/20\n",
      "6680/6680 [==============================] - 87s 13ms/step - loss: 4.4333 - acc: 0.0579 - val_loss: 4.5248 - val_acc: 0.0371\n",
      "\n",
      "Epoch 00019: val_loss improved from 4.56486 to 4.52475, saving model to saved_models/weights.best.from_scratch.hdf5\n",
      "Epoch 20/20\n",
      "6680/6680 [==============================] - 89s 13ms/step - loss: 4.4110 - acc: 0.0606 - val_loss: 4.5519 - val_acc: 0.0419\n",
      "\n",
      "Epoch 00020: val_loss did not improve from 4.52475\n"
     ]
    },
    {
     "data": {
      "text/plain": [
       "<keras.callbacks.History at 0x1a341b7a20>"
      ]
     },
     "execution_count": 15,
     "metadata": {},
     "output_type": "execute_result"
    }
   ],
   "source": [
    "# specify the number of epochs that we would like to use to train the model.\n",
    "epochs = 20\n",
    "\n",
    "checkpointer = ModelCheckpoint(filepath='saved_models/weights.best.from_scratch.hdf5', \n",
    "                               verbose=1, save_best_only=True)\n",
    "\n",
    "model.fit(train_tensors, train_targets, \n",
    "          validation_data=(valid_tensors, valid_targets),\n",
    "          epochs=epochs, batch_size=20, callbacks=[checkpointer], verbose=1)"
   ]
  },
  {
   "cell_type": "markdown",
   "metadata": {},
   "source": [
    "### Load the Model with the Best Validation Loss"
   ]
  },
  {
   "cell_type": "code",
   "execution_count": 16,
   "metadata": {
    "collapsed": true
   },
   "outputs": [],
   "source": [
    "model.load_weights('saved_models/weights.best.from_scratch.hdf5')"
   ]
  },
  {
   "cell_type": "markdown",
   "metadata": {},
   "source": [
    "### Test the Model\n",
    "\n",
    "Try out our model on the test dataset of dog images.  Ensure that your test accuracy is greater than 1%."
   ]
  },
  {
   "cell_type": "code",
   "execution_count": 17,
   "metadata": {},
   "outputs": [
    {
     "name": "stdout",
     "output_type": "stream",
     "text": [
      "Test accuracy: 5.8612%\n"
     ]
    }
   ],
   "source": [
    "# get index of predicted dog breed for each image in test set\n",
    "dog_breed_predictions = [np.argmax(model.predict(np.expand_dims(tensor, axis=0))) for tensor in test_tensors]\n",
    "\n",
    "# report test accuracy\n",
    "test_accuracy = 100*np.sum(np.array(dog_breed_predictions)==np.argmax(test_targets, axis=1))/len(dog_breed_predictions)\n",
    "print('Test accuracy: %.4f%%' % test_accuracy)"
   ]
  },
  {
   "cell_type": "markdown",
   "metadata": {},
   "source": [
    "---\n",
    "<a id='step4'></a>\n",
    "## Step 4: Use a CNN to Classify Dog Breeds\n",
    "\n",
    "To reduce training time without sacrificing accuracy, we will train a CNN using transfer learning.\n",
    "\n",
    "### Obtain Bottleneck Features"
   ]
  },
  {
   "cell_type": "code",
   "execution_count": 18,
   "metadata": {
    "collapsed": true
   },
   "outputs": [],
   "source": [
    "bottleneck_features = np.load('bottleneck_features/DogVGG16Data.npz')\n",
    "train_VGG16 = bottleneck_features['train']\n",
    "valid_VGG16 = bottleneck_features['valid']\n",
    "test_VGG16 = bottleneck_features['test']"
   ]
  },
  {
   "cell_type": "markdown",
   "metadata": {},
   "source": [
    "### Model Architecture\n",
    "\n",
    "The model uses the the pre-trained VGG-16 model as a fixed feature extractor, where the last convolutional output of VGG-16 is fed as input to our model.  We only add a global average pooling layer and a fully connected layer, where the latter contains one node for each dog category and is equipped with a softmax."
   ]
  },
  {
   "cell_type": "code",
   "execution_count": 19,
   "metadata": {},
   "outputs": [
    {
     "name": "stdout",
     "output_type": "stream",
     "text": [
      "_________________________________________________________________\n",
      "Layer (type)                 Output Shape              Param #   \n",
      "=================================================================\n",
      "global_average_pooling2d_2 ( (None, 512)               0         \n",
      "_________________________________________________________________\n",
      "dense_2 (Dense)              (None, 133)               68229     \n",
      "=================================================================\n",
      "Total params: 68,229\n",
      "Trainable params: 68,229\n",
      "Non-trainable params: 0\n",
      "_________________________________________________________________\n"
     ]
    }
   ],
   "source": [
    "VGG16_model = Sequential()\n",
    "VGG16_model.add(GlobalAveragePooling2D(input_shape=train_VGG16.shape[1:]))\n",
    "VGG16_model.add(Dense(133, activation='softmax'))\n",
    "\n",
    "VGG16_model.summary()"
   ]
  },
  {
   "cell_type": "markdown",
   "metadata": {},
   "source": [
    "### Compile the Model"
   ]
  },
  {
   "cell_type": "code",
   "execution_count": 20,
   "metadata": {
    "collapsed": true
   },
   "outputs": [],
   "source": [
    "VGG16_model.compile(loss='categorical_crossentropy', optimizer='rmsprop', metrics=['accuracy'])"
   ]
  },
  {
   "cell_type": "markdown",
   "metadata": {},
   "source": [
    "### Train the Model"
   ]
  },
  {
   "cell_type": "code",
   "execution_count": 21,
   "metadata": {},
   "outputs": [
    {
     "name": "stdout",
     "output_type": "stream",
     "text": [
      "Train on 6680 samples, validate on 835 samples\n",
      "Epoch 1/20\n",
      "6680/6680 [==============================] - 2s 329us/step - loss: 11.7486 - acc: 0.1338 - val_loss: 10.2409 - val_acc: 0.2371\n",
      "\n",
      "Epoch 00001: val_loss improved from inf to 10.24087, saving model to saved_models/weights.best.VGG16.hdf5\n",
      "Epoch 2/20\n",
      "6680/6680 [==============================] - 1s 118us/step - loss: 9.3516 - acc: 0.3171 - val_loss: 9.4980 - val_acc: 0.2982\n",
      "\n",
      "Epoch 00002: val_loss improved from 10.24087 to 9.49800, saving model to saved_models/weights.best.VGG16.hdf5\n",
      "Epoch 3/20\n",
      "6680/6680 [==============================] - 1s 119us/step - loss: 8.7511 - acc: 0.3859 - val_loss: 9.1091 - val_acc: 0.3365\n",
      "\n",
      "Epoch 00003: val_loss improved from 9.49800 to 9.10905, saving model to saved_models/weights.best.VGG16.hdf5\n",
      "Epoch 4/20\n",
      "6680/6680 [==============================] - 1s 119us/step - loss: 8.3721 - acc: 0.4254 - val_loss: 8.9091 - val_acc: 0.3629\n",
      "\n",
      "Epoch 00004: val_loss improved from 9.10905 to 8.90910, saving model to saved_models/weights.best.VGG16.hdf5\n",
      "Epoch 5/20\n",
      "6680/6680 [==============================] - 1s 119us/step - loss: 8.1845 - acc: 0.4463 - val_loss: 8.7844 - val_acc: 0.3677\n",
      "\n",
      "Epoch 00005: val_loss improved from 8.90910 to 8.78437, saving model to saved_models/weights.best.VGG16.hdf5\n",
      "Epoch 6/20\n",
      "6680/6680 [==============================] - 1s 126us/step - loss: 7.9614 - acc: 0.4666 - val_loss: 8.5872 - val_acc: 0.3868\n",
      "\n",
      "Epoch 00006: val_loss improved from 8.78437 to 8.58720, saving model to saved_models/weights.best.VGG16.hdf5\n",
      "Epoch 7/20\n",
      "6680/6680 [==============================] - 1s 148us/step - loss: 7.7471 - acc: 0.4859 - val_loss: 8.3893 - val_acc: 0.4024\n",
      "\n",
      "Epoch 00007: val_loss improved from 8.58720 to 8.38928, saving model to saved_models/weights.best.VGG16.hdf5\n",
      "Epoch 8/20\n",
      "6680/6680 [==============================] - 1s 155us/step - loss: 7.6674 - acc: 0.5036 - val_loss: 8.4124 - val_acc: 0.4108\n",
      "\n",
      "Epoch 00008: val_loss did not improve from 8.38928\n",
      "Epoch 9/20\n",
      "6680/6680 [==============================] - 1s 149us/step - loss: 7.5913 - acc: 0.5064 - val_loss: 8.2929 - val_acc: 0.4180\n",
      "\n",
      "Epoch 00009: val_loss improved from 8.38928 to 8.29286, saving model to saved_models/weights.best.VGG16.hdf5\n",
      "Epoch 10/20\n",
      "6680/6680 [==============================] - 1s 152us/step - loss: 7.5193 - acc: 0.5190 - val_loss: 8.2058 - val_acc: 0.4168\n",
      "\n",
      "Epoch 00010: val_loss improved from 8.29286 to 8.20582, saving model to saved_models/weights.best.VGG16.hdf5\n",
      "Epoch 11/20\n",
      "6680/6680 [==============================] - 1s 132us/step - loss: 7.4407 - acc: 0.5235 - val_loss: 8.1995 - val_acc: 0.4120\n",
      "\n",
      "Epoch 00011: val_loss improved from 8.20582 to 8.19954, saving model to saved_models/weights.best.VGG16.hdf5\n",
      "Epoch 12/20\n",
      "6680/6680 [==============================] - 1s 125us/step - loss: 7.1894 - acc: 0.5311 - val_loss: 7.9193 - val_acc: 0.4287\n",
      "\n",
      "Epoch 00012: val_loss improved from 8.19954 to 7.91926, saving model to saved_models/weights.best.VGG16.hdf5\n",
      "Epoch 13/20\n",
      "6680/6680 [==============================] - 1s 125us/step - loss: 6.9828 - acc: 0.5484 - val_loss: 7.9063 - val_acc: 0.4419\n",
      "\n",
      "Epoch 00013: val_loss improved from 7.91926 to 7.90632, saving model to saved_models/weights.best.VGG16.hdf5\n",
      "Epoch 14/20\n",
      "6680/6680 [==============================] - 1s 128us/step - loss: 6.9273 - acc: 0.5555 - val_loss: 7.8178 - val_acc: 0.4395\n",
      "\n",
      "Epoch 00014: val_loss improved from 7.90632 to 7.81775, saving model to saved_models/weights.best.VGG16.hdf5\n",
      "Epoch 15/20\n",
      "6680/6680 [==============================] - 1s 123us/step - loss: 6.8600 - acc: 0.5596 - val_loss: 7.7023 - val_acc: 0.4503\n",
      "\n",
      "Epoch 00015: val_loss improved from 7.81775 to 7.70228, saving model to saved_models/weights.best.VGG16.hdf5\n",
      "Epoch 16/20\n",
      "6680/6680 [==============================] - 1s 120us/step - loss: 6.7590 - acc: 0.5708 - val_loss: 7.6492 - val_acc: 0.4551\n",
      "\n",
      "Epoch 00016: val_loss improved from 7.70228 to 7.64921, saving model to saved_models/weights.best.VGG16.hdf5\n",
      "Epoch 17/20\n",
      "6680/6680 [==============================] - 1s 119us/step - loss: 6.7356 - acc: 0.5726 - val_loss: 7.6777 - val_acc: 0.4539\n",
      "\n",
      "Epoch 00017: val_loss did not improve from 7.64921\n",
      "Epoch 18/20\n",
      "6680/6680 [==============================] - 1s 107us/step - loss: 6.7212 - acc: 0.5774 - val_loss: 7.6319 - val_acc: 0.4443\n",
      "\n",
      "Epoch 00018: val_loss improved from 7.64921 to 7.63190, saving model to saved_models/weights.best.VGG16.hdf5\n",
      "Epoch 19/20\n",
      "6680/6680 [==============================] - 1s 121us/step - loss: 6.6740 - acc: 0.5751 - val_loss: 7.7295 - val_acc: 0.4419\n",
      "\n",
      "Epoch 00019: val_loss did not improve from 7.63190\n",
      "Epoch 20/20\n",
      "6680/6680 [==============================] - 1s 130us/step - loss: 6.5886 - acc: 0.5811 - val_loss: 7.6822 - val_acc: 0.4503\n",
      "\n",
      "Epoch 00020: val_loss did not improve from 7.63190\n"
     ]
    },
    {
     "data": {
      "text/plain": [
       "<keras.callbacks.History at 0x1a3447eda0>"
      ]
     },
     "execution_count": 21,
     "metadata": {},
     "output_type": "execute_result"
    }
   ],
   "source": [
    "checkpointer = ModelCheckpoint(filepath='saved_models/weights.best.VGG16.hdf5', \n",
    "                               verbose=1, save_best_only=True)\n",
    "\n",
    "VGG16_model.fit(train_VGG16, train_targets, \n",
    "          validation_data=(valid_VGG16, valid_targets),\n",
    "          epochs=20, batch_size=20, callbacks=[checkpointer], verbose=1)"
   ]
  },
  {
   "cell_type": "markdown",
   "metadata": {},
   "source": [
    "### Load the Model with the Best Validation Loss"
   ]
  },
  {
   "cell_type": "code",
   "execution_count": 22,
   "metadata": {
    "collapsed": true
   },
   "outputs": [],
   "source": [
    "VGG16_model.load_weights('saved_models/weights.best.VGG16.hdf5')"
   ]
  },
  {
   "cell_type": "markdown",
   "metadata": {},
   "source": [
    "### Test the Model\n",
    "\n",
    "Now, we can use the CNN to test how well it identifies breed within our test dataset of dog images.  We print the test accuracy below."
   ]
  },
  {
   "cell_type": "code",
   "execution_count": 23,
   "metadata": {},
   "outputs": [
    {
     "name": "stdout",
     "output_type": "stream",
     "text": [
      "Test accuracy: 46.4115%\n"
     ]
    }
   ],
   "source": [
    "# get index of predicted dog breed for each image in test set\n",
    "VGG16_predictions = [np.argmax(VGG16_model.predict(np.expand_dims(feature, axis=0))) for feature in test_VGG16]\n",
    "\n",
    "# report test accuracy\n",
    "test_accuracy = 100*np.sum(np.array(VGG16_predictions)==np.argmax(test_targets, axis=1))/len(VGG16_predictions)\n",
    "print('Test accuracy: %.4f%%' % test_accuracy)"
   ]
  },
  {
   "cell_type": "markdown",
   "metadata": {},
   "source": [
    "### Predict Dog Breed with the Model"
   ]
  },
  {
   "cell_type": "code",
   "execution_count": 24,
   "metadata": {
    "collapsed": true
   },
   "outputs": [],
   "source": [
    "def VGG16_predict_breed(img_path):\n",
    "    # extract bottleneck features\n",
    "    bottleneck_feature = extract_VGG16(path_to_tensor(img_path))\n",
    "    # obtain predicted vector\n",
    "    predicted_vector = VGG16_model.predict(bottleneck_feature)\n",
    "    # return dog breed that is predicted by the model\n",
    "    return dog_names[np.argmax(predicted_vector)]"
   ]
  },
  {
   "cell_type": "markdown",
   "metadata": {},
   "source": [
    "---\n",
    "<a id='step5'></a>\n",
    "## Step 5: Create a CNN to Classify Dog Breeds (using Transfer Learning)\n",
    "\n",
    "We will now use transfer learning to create a CNN that can identify dog breed from images.  Our CNN must attain at least 60% accuracy on the test set.\n",
    "\n",
    "In Step 4, we used transfer learning to create a CNN using VGG-16 bottleneck features.  In this section, we must use the bottleneck features from a different pre-trained model. Below are the pre-computed the features for all of the networks that are currently available in Keras:\n",
    "- [VGG-19](https://s3-us-west-1.amazonaws.com/udacity-aind/dog-project/DogVGG19Data.npz) bottleneck features\n",
    "- [ResNet-50](https://s3-us-west-1.amazonaws.com/udacity-aind/dog-project/DogResnet50Data.npz) bottleneck features\n",
    "- [Inception](https://s3-us-west-1.amazonaws.com/udacity-aind/dog-project/DogInceptionV3Data.npz) bottleneck features\n",
    "- [Xception](https://s3-us-west-1.amazonaws.com/udacity-aind/dog-project/DogXceptionData.npz) bottleneck features\n",
    "\n",
    "The files are encoded as such:\n",
    "\n",
    "    Dog{network}Data.npz\n",
    "    \n",
    "where `{network}`, in the above filename, can be one of `VGG19`, `Resnet50`, `InceptionV3`, or `Xception`.  Pick one of the above architectures, download the corresponding bottleneck features, and store the downloaded file in the `bottleneck_features/` folder in the repository."
   ]
  },
  {
   "cell_type": "code",
   "execution_count": 25,
   "metadata": {
    "collapsed": true
   },
   "outputs": [],
   "source": [
    "def set_up_pretrained_model(network):\n",
    "    \"\"\"\n",
    "    Obtain bottleneck features, define CNN architecture and compile the model\n",
    "    :param network: network that is currently available in Keras (i.e.VGG-16, VGG-19, ResNet-50, Inception or Xception)\n",
    "    :return: corresponding train, valid and test sets and the initiated model\n",
    "    \"\"\"\n",
    "    # obtain bottleneck features from another pre-trained CNN\n",
    "    load_file_path = 'bottleneck_features/Dog{}Data.npz'.format(network)\n",
    "    bottleneck_features = np.load(load_file_path)\n",
    "    train = bottleneck_features['train']\n",
    "    valid = bottleneck_features['valid']\n",
    "    test = bottleneck_features['test']\n",
    "    \n",
    "    # define your architecture\n",
    "    model = Sequential()\n",
    "    model.add(GlobalAveragePooling2D(input_shape=train.shape[1:]))\n",
    "    model.add(Dense(len(dog_names), activation='softmax'))\n",
    "    print(network)\n",
    "    print(model.summary())\n",
    "    \n",
    "    # Compile the model\n",
    "    model.compile(loss='categorical_crossentropy', optimizer='rmsprop', metrics=['accuracy'])\n",
    "    \n",
    "    return train, valid, test, model\n",
    "\n",
    "\n",
    "def execute_pretrained_model(network):\n",
    "    \"\"\"\n",
    "    Train model and save weights of the best one; report performance\n",
    "    :param network: network that is currently available in Keras (i.e.VGG-16, VGG-19, ResNet-50, Inception or Xception)\n",
    "    :return: None\n",
    "    \"\"\"\n",
    "    train, valid, test, model = set_up_pretrained_model(network)\n",
    "    \n",
    "    # train the model\n",
    "    saved_file_path = 'saved_models/weights.best.{}.hdf5'.format(network)\n",
    "    checkpointer = ModelCheckpoint(filepath=saved_file_path, verbose=0, save_best_only=True)\n",
    "    model.fit(train, train_targets, validation_data=(valid, valid_targets),\n",
    "              epochs=20, batch_size=20, callbacks=[checkpointer], verbose=0)\n",
    "    \n",
    "    # load the model weights with the best validation loss\n",
    "    model.load_weights(saved_file_path)\n",
    "    \n",
    "    # calculate classification accuracy on the test dataset;\n",
    "    # get index of predicted dog breed for each image in test set\n",
    "    predictions = [np.argmax(model.predict(np.expand_dims(feature, axis=0))) for feature in test]\n",
    "    \n",
    "    # report test accuracy\n",
    "    test_accuracy = 100*np.sum(np.array(predictions)==np.argmax(test_targets, axis=1))/len(predictions)\n",
    "    print(network)\n",
    "    print('Test accuracy: %.4f%%' % test_accuracy)\n",
    "    print('---------------------------------------')\n",
    "    \n",
    "    \n",
    "def breed_classifier(img_path):\n",
    "    \"\"\"\n",
    "    Return the dog breed that is predicted by the best model (Xception)\n",
    "    :param img_path: path to an image\n",
    "    :return: predicted dog breed (e.g.: `Affenpinscher`, `Afghan_hound`, etc.)\n",
    "    \"\"\"\n",
    "    train_xception, valid_xception, test_xception, model_xception = set_up_pretrained_model('Xception')\n",
    "    model_xception.load_weights('saved_models/weights.best.{}.hdf5'.format('Xception'))\n",
    "    \n",
    "    # functions to extract the bottleneck features can be found in `extract_bottleneck_features.py`, \n",
    "    # and they have been imported in an earlier code cell\n",
    "    bottleneck_feature = extract_Xception(path_to_tensor(img_path))\n",
    "    # supply the bottleneck features as input to the model to return the predicted vector;\n",
    "    predicted_vector = model_xception.predict(bottleneck_feature)\n",
    "    # the argmax of this prediction vector gives the index of the predicted dog breed;\n",
    "    # use the `dog_names` array to return the corresponding breed\n",
    "    pred = dog_names[np.argmax(predicted_vector)]\n",
    "    return pred.split('.')[1]"
   ]
  },
  {
   "cell_type": "code",
   "execution_count": 28,
   "metadata": {},
   "outputs": [
    {
     "name": "stdout",
     "output_type": "stream",
     "text": [
      "VGG16\n",
      "_________________________________________________________________\n",
      "Layer (type)                 Output Shape              Param #   \n",
      "=================================================================\n",
      "global_average_pooling2d_5 ( (None, 512)               0         \n",
      "_________________________________________________________________\n",
      "dense_5 (Dense)              (None, 133)               68229     \n",
      "=================================================================\n",
      "Total params: 68,229\n",
      "Trainable params: 68,229\n",
      "Non-trainable params: 0\n",
      "_________________________________________________________________\n",
      "None\n",
      "VGG16\n",
      "Test accuracy: 46.4115%\n",
      "---------------------------------------\n",
      "VGG19\n",
      "_________________________________________________________________\n",
      "Layer (type)                 Output Shape              Param #   \n",
      "=================================================================\n",
      "global_average_pooling2d_6 ( (None, 512)               0         \n",
      "_________________________________________________________________\n",
      "dense_6 (Dense)              (None, 133)               68229     \n",
      "=================================================================\n",
      "Total params: 68,229\n",
      "Trainable params: 68,229\n",
      "Non-trainable params: 0\n",
      "_________________________________________________________________\n",
      "None\n",
      "VGG19\n",
      "Test accuracy: 54.3062%\n",
      "---------------------------------------\n",
      "Resnet50\n",
      "_________________________________________________________________\n",
      "Layer (type)                 Output Shape              Param #   \n",
      "=================================================================\n",
      "global_average_pooling2d_7 ( (None, 2048)              0         \n",
      "_________________________________________________________________\n",
      "dense_7 (Dense)              (None, 133)               272517    \n",
      "=================================================================\n",
      "Total params: 272,517\n",
      "Trainable params: 272,517\n",
      "Non-trainable params: 0\n",
      "_________________________________________________________________\n",
      "None\n",
      "Resnet50\n",
      "Test accuracy: 79.9043%\n",
      "---------------------------------------\n",
      "InceptionV3\n",
      "_________________________________________________________________\n",
      "Layer (type)                 Output Shape              Param #   \n",
      "=================================================================\n",
      "global_average_pooling2d_8 ( (None, 2048)              0         \n",
      "_________________________________________________________________\n",
      "dense_8 (Dense)              (None, 133)               272517    \n",
      "=================================================================\n",
      "Total params: 272,517\n",
      "Trainable params: 272,517\n",
      "Non-trainable params: 0\n",
      "_________________________________________________________________\n",
      "None\n",
      "InceptionV3\n",
      "Test accuracy: 78.7081%\n",
      "---------------------------------------\n",
      "Xception\n",
      "_________________________________________________________________\n",
      "Layer (type)                 Output Shape              Param #   \n",
      "=================================================================\n",
      "global_average_pooling2d_9 ( (None, 2048)              0         \n",
      "_________________________________________________________________\n",
      "dense_9 (Dense)              (None, 133)               272517    \n",
      "=================================================================\n",
      "Total params: 272,517\n",
      "Trainable params: 272,517\n",
      "Non-trainable params: 0\n",
      "_________________________________________________________________\n",
      "None\n",
      "Xception\n",
      "Test accuracy: 84.4498%\n",
      "---------------------------------------\n"
     ]
    }
   ],
   "source": [
    "for nw in ['VGG16', 'VGG19', 'Resnet50', 'InceptionV3', 'Xception']:\n",
    "    execute_pretrained_model(nw)"
   ]
  },
  {
   "cell_type": "markdown",
   "metadata": {
    "collapsed": true
   },
   "source": [
    "Result table for all pre-trained networks:\n",
    "\n",
    "| Network     | Test accuracy (%) |\n",
    "|-------------|-------------------|\n",
    "| VGG16       | 46.53             |\n",
    "| VGG19       | 55.26             |\n",
    "| Resnet50    | 79.90             |\n",
    "| InceptionV3 | 78.71             |\n",
    "| Xception    | 84.45             |\n",
    "\n",
    "Since Xception is the best model out of 5 pre-trained network, our `breed_classifier()` function was defined in the code cell above based on `Xception`."
   ]
  },
  {
   "cell_type": "markdown",
   "metadata": {},
   "source": [
    "---\n",
    "<a id='step6'></a>\n",
    "## Step 6: Write our Algorithm"
   ]
  },
  {
   "cell_type": "code",
   "execution_count": 29,
   "metadata": {
    "collapsed": true
   },
   "outputs": [],
   "source": [
    "def dog_breed_classifier(img_path):\n",
    "    \"\"\"\n",
    "    Determine whether an image contains a human, dog or neither:\n",
    "        - if a dog is detected in the image, return the predicted breed.\n",
    "        - if a human is detected in the image, return the resembling dog breed.\n",
    "        - if neither is detected in the image, provide output that indicates an error.\n",
    "    :param img_path: file path to an image\n",
    "    :return: predicted breed \n",
    "    \"\"\"\n",
    "    if dog_detector(img_path) or face_detector(img_path):\n",
    "        return breed_classifier(img_path)\n",
    "    else:\n",
    "        print('Error! Neither human nor dog is detected.') "
   ]
  }
 ],
 "metadata": {
  "anaconda-cloud": {},
  "kernelspec": {
   "display_name": "Python 3",
   "language": "python",
   "name": "python3"
  },
  "language_info": {
   "codemirror_mode": {
    "name": "ipython",
    "version": 3
   },
   "file_extension": ".py",
   "mimetype": "text/x-python",
   "name": "python",
   "nbconvert_exporter": "python",
   "pygments_lexer": "ipython3",
   "version": "3.6.8"
  }
 },
 "nbformat": 4,
 "nbformat_minor": 1
}
